{
 "cells": [
  {
   "cell_type": "markdown",
   "id": "e4561ac1",
   "metadata": {},
   "source": [
    "- Background\n",
    "- EDA\n",
    "- Dataset building\n",
    "- Entrenamiento del modelo\n",
    "- Predicciones realizadas, evaluación del modelo\n",
    "- Cosas a mejorar (next steps)"
   ]
  },
  {
   "cell_type": "markdown",
   "id": "0a4703e4",
   "metadata": {
    "vscode": {
     "languageId": "plaintext"
    }
   },
   "source": [
    "- **Background:** \n",
    "Explicar la motivación, el contexto, por qué se ha decidido este proyecto. Hablar sobre el desperdicio alimenticio (mucha gente acaba usando ingredientes nuevos o que no están disponibles ya en su nevera porque las recetas acaban recomendando lo que sea). También hablar sobre la necesidad de poder tomar alimentos suficientemente nutritivos para tener las vitaminas/nutrientes necesarios. Es tanto una forma de poder solucionar un estado físico, aprender sobre nutrientes Y UNA FORMA DE LONG-TERM TRACKING.\n",
    "\n",
    "- **Dataset building:**\n",
    "Hablar del data augmentation para simular diferentes posiciones, iluminación, tamaños de nevera. También diferentes calidades de cámara, saturación, hora del día en la que se hizo la foto.\n",
    "\n",
    "Hablar sobre el proceso de manual labelling de nuevas fotos de nevera y también de las nevera en sí.\n",
    "\n",
    "Hablar sobre la construcción de un dataset sintético, donde se ponen aleatoriamente fotos de diferentes clases en fotos de nevera(previamente etiquetados para que los objetos no puedan ser posicionados en ubicaciones extrañas (como flotando, como en el suelo))\n",
    "\n",
    "Aplicar data augmentation sobre el dataset sintético.\n",
    "\n",
    "- **Entrenamiento del modelo:**\n",
    "Se realiza una prueba para comprobar qué clases predice peor y ampliar dataset en base a eso.\n",
    "\n",
    "-**Cosas a mejorar**\n",
    "- Se pueden incorporar más clases de comida\n",
    "- Se puede crear más fotos de comida y neveras para que sea más robusto (en lugar de usar fotos sintéticas)\n",
    "- Se puede adaptar para despensas os simplemente el usuario cogiendo los objetos y poniéndolos en una mesa\n",
    "\n",
    "(crear algunos ejemplos de despensa y de objetos en la mesa usando la herramienta de bounding boxes)"
   ]
  }
 ],
 "metadata": {
  "language_info": {
   "name": "python"
  }
 },
 "nbformat": 4,
 "nbformat_minor": 5
}
